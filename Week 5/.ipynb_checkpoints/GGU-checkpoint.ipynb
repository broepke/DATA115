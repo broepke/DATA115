{
 "cells": [
  {
   "cell_type": "markdown",
   "id": "painted-assistant",
   "metadata": {},
   "source": [
    "# Basic SQL Lite with Python\n",
    "\n",
    "https://realpython.com/python-sql-libraries/"
   ]
  },
  {
   "cell_type": "code",
   "execution_count": 1,
   "id": "secondary-ladder",
   "metadata": {},
   "outputs": [],
   "source": [
    "import sqlite3\n",
    "from sqlite3 import Error"
   ]
  },
  {
   "cell_type": "code",
   "execution_count": 3,
   "id": "incorrect-closing",
   "metadata": {},
   "outputs": [],
   "source": [
    "def create_connection(path):\n",
    "    connection = None\n",
    "    try:\n",
    "        connection = sqlite3.connect(path)\n",
    "        print(\"Connection to SQLite DB successful\")\n",
    "    except Error as e:\n",
    "        print(f\"The error '{e}' occurred\")\n",
    "\n",
    "    return connection"
   ]
  },
  {
   "cell_type": "code",
   "execution_count": 4,
   "id": "composite-throat",
   "metadata": {},
   "outputs": [
    {
     "name": "stdout",
     "output_type": "stream",
     "text": [
      "Connection to SQLite DB successful\n"
     ]
    }
   ],
   "source": [
    "connection = create_connection(\"ggu.db\")"
   ]
  },
  {
   "cell_type": "code",
   "execution_count": 15,
   "id": "recent-sheep",
   "metadata": {},
   "outputs": [],
   "source": [
    "def execute_read_query(connection, query):\n",
    "    cursor = connection.cursor()\n",
    "    result = None\n",
    "    try:\n",
    "        cursor.execute(query)\n",
    "        result = cursor.fetchall()\n",
    "        return result\n",
    "    except Error as e:\n",
    "        print(f\"The error '{e}' occurred\")"
   ]
  },
  {
   "cell_type": "code",
   "execution_count": 16,
   "id": "magnetic-crazy",
   "metadata": {},
   "outputs": [
    {
     "name": "stdout",
     "output_type": "stream",
     "text": [
      "(1, 'Bart', 'Simpson', 'JoJo', 'bart@my.ggu.edu', 'bart@hotmail.com', '(555) 123-1234', 1, 1)\n",
      "(2, 'Lisa', 'Simpson', 'Marie', 'lisa@my.ggu.edu', 'lisa@hotmail.com', '(555) 123-1234', 1, 1)\n",
      "(3, 'Meg', 'Griffin', '', 'meg@my.ggu.edu', 'meg@gmail.com', '(999) 999-9999', 1, 1)\n",
      "(4, 'Christopher', 'Griffin', 'Cross', 'chris@my.ggu.edu', 'chris@gmail.com', '(999) 999-9999', 2, 1)\n"
     ]
    }
   ],
   "source": [
    "select_users = \"SELECT * FROM STUDENTS\"\n",
    "users = execute_read_query(connection, select_users)\n",
    "\n",
    "for user in users:\n",
    "    print(user)"
   ]
  }
 ],
 "metadata": {
  "kernelspec": {
   "display_name": "Python 3",
   "language": "python",
   "name": "python3"
  },
  "language_info": {
   "codemirror_mode": {
    "name": "ipython",
    "version": 3
   },
   "file_extension": ".py",
   "mimetype": "text/x-python",
   "name": "python",
   "nbconvert_exporter": "python",
   "pygments_lexer": "ipython3",
   "version": "3.8.5"
  }
 },
 "nbformat": 4,
 "nbformat_minor": 5
}
