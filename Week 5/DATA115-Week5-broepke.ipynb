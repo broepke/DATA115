{
 "cells": [
  {
   "cell_type": "markdown",
   "id": "abandoned-modeling",
   "metadata": {},
   "source": [
    "# DATA115 Week 5 Database Queries\n",
    "**Brian Roepke**\n",
    "\n",
    "https://realpython.com/python-sql-libraries/"
   ]
  },
  {
   "cell_type": "code",
   "execution_count": 1,
   "id": "demographic-rover",
   "metadata": {},
   "outputs": [],
   "source": [
    "import pandas as pd\n",
    "import numpy as np\n",
    "import sqlite3\n",
    "from sqlite3 import Error"
   ]
  },
  {
   "cell_type": "code",
   "execution_count": 2,
   "id": "trained-blowing",
   "metadata": {},
   "outputs": [],
   "source": [
    "def create_connection(path):\n",
    "    connection = None\n",
    "    try:\n",
    "        connection = sqlite3.connect(path)\n",
    "        print(\"Connection to SQLite DB successful\")\n",
    "    except Error as e:\n",
    "        print(f\"The error '{e}' occurred\")\n",
    "\n",
    "    return connection"
   ]
  },
  {
   "cell_type": "code",
   "execution_count": 3,
   "id": "chicken-windows",
   "metadata": {},
   "outputs": [
    {
     "name": "stdout",
     "output_type": "stream",
     "text": [
      "Connection to SQLite DB successful\n"
     ]
    }
   ],
   "source": [
    "connection = create_connection(\"week-5.db\")"
   ]
  },
  {
   "cell_type": "markdown",
   "id": "adequate-carbon",
   "metadata": {},
   "source": [
    "## Create Tables\n",
    "For this example, a SQLite database was used.  The data types are simplified from other databases providers, limited to INTEGER, REAL, TEXT, and BLOB.  Other databases may use more complex type definitions, however the SQL query is similar, just changing the type definitions to match the provider’s supported types.  Primary keys and Foreign keys are designated per the schema design"
   ]
  },
  {
   "cell_type": "code",
   "execution_count": 4,
   "id": "improving-times",
   "metadata": {},
   "outputs": [],
   "source": [
    "def execute_query(connection, query):\n",
    "    cursor = connection.cursor()\n",
    "    try:\n",
    "        cursor.execute(query)\n",
    "        connection.commit()\n",
    "        print(\"Query executed successfully\")\n",
    "    except Error as e:\n",
    "        print(f\"The error '{e}' occurred\")"
   ]
  },
  {
   "cell_type": "code",
   "execution_count": 5,
   "id": "colored-receipt",
   "metadata": {},
   "outputs": [
    {
     "name": "stdout",
     "output_type": "stream",
     "text": [
      "Query executed successfully\n"
     ]
    }
   ],
   "source": [
    "create_students = \"\"\"\n",
    "CREATE TABLE \"STUDENTS\" (\n",
    " \"ID\" INTEGER NOT NULL UNIQUE,\n",
    " \"FirstName\" TEXT,\n",
    " \"LastName\" TEXT,\n",
    " \"MiddleName\" TEXT,\n",
    " \"EmailStudent\" TEXT,\n",
    " \"EmailPersonal\" TEXT,\n",
    " \"PrimaryPhone\" TEXT,\n",
    " \"Active\" INTEGER,\n",
    " \"DegreeID\" INTEGER,\n",
    " PRIMARY KEY(\"ID\" AUTOINCREMENT),\n",
    " FOREIGN KEY(\"DegreeID\") REFERENCES \"DEGREE\"(\"ID\")\n",
    ");\"\"\"\n",
    "\n",
    "execute_query(connection, create_students)"
   ]
  },
  {
   "cell_type": "code",
   "execution_count": 6,
   "id": "institutional-japanese",
   "metadata": {},
   "outputs": [
    {
     "name": "stdout",
     "output_type": "stream",
     "text": [
      "Query executed successfully\n"
     ]
    }
   ],
   "source": [
    "create_courses = \"\"\"\n",
    "CREATE TABLE \"COURSES\" (\n",
    "    \"ID\" INTEGER NOT NULL UNIQUE,\n",
    "    \"Code\" TEXT,\n",
    "    \"Name\" TEXT,\n",
    "    \"Units\" INTEGER,\n",
    "    \"Location\" INTEGER,\n",
    "    \"Level\" INTEGER,\n",
    "    PRIMARY KEY(\"ID\" AUTOINCREMENT)\n",
    ");\"\"\"\n",
    "\n",
    "execute_query(connection, create_courses)"
   ]
  },
  {
   "cell_type": "code",
   "execution_count": 7,
   "id": "opponent-ready",
   "metadata": {},
   "outputs": [
    {
     "name": "stdout",
     "output_type": "stream",
     "text": [
      "Query executed successfully\n"
     ]
    }
   ],
   "source": [
    "create_degrees = \"\"\"\n",
    "CREATE TABLE \"DEGREE\" (\n",
    " \"ID\" INTEGER NOT NULL UNIQUE,\n",
    " \"Name\" TEXT,\n",
    " \"Level\" TEXT,\n",
    " \"Units\" INTEGER,\n",
    " PRIMARY KEY(\"ID\" AUTOINCREMENT)\n",
    ");\"\"\"\n",
    "\n",
    "execute_query(connection, create_degrees)"
   ]
  },
  {
   "cell_type": "markdown",
   "id": "sought-personality",
   "metadata": {},
   "source": [
    "## Insert Data\n",
    "The following queries to insert entires into the GGU Student table, and our course to the GGU course and your Degree to the GGU Degrees.  It’s assumed for all the above examples that the ID column is set to AUTOINCREMENT as shown in the initial table creation, therefore is omitted from the INSERT statement"
   ]
  },
  {
   "cell_type": "code",
   "execution_count": 8,
   "id": "third-marriage",
   "metadata": {},
   "outputs": [
    {
     "name": "stdout",
     "output_type": "stream",
     "text": [
      "Query executed successfully\n"
     ]
    }
   ],
   "source": [
    "insert_students = \"\"\"\n",
    "INSERT INTO\n",
    "    STUDENTS (\"FirstName\", \"LastName\", \"MiddleName\", \"EmailStudent\", \"EmailPersonal\", \"PrimaryPhone\", \"Active\", \"DegreeID\")  \n",
    "VALUES\n",
    "  ('Bart', 'Simpson', 'JoJo', 'bart@my.ggu.edu', 'bart@hotmail.com', '(555) 123-1234', 1, 1),\n",
    "  ('Lisa', 'Simpson', 'Marie', 'lisa@my.ggu.edu', 'lisa@hotmail.com', '(555) 123-1234', 1, 1),\n",
    "  ('Meg', 'Griffin', '', 'meg@my.ggu.edu', 'meg@gmail.com', '(999) 999-9999', 1, 1),\n",
    "  ('Christopher', 'Griffin', 'Cross', 'chris@my.ggu.edu', 'chris@gmail.com', '(999) 999-9999', 1, 2);\n",
    "\"\"\"\n",
    "\n",
    "execute_query(connection, insert_students)"
   ]
  },
  {
   "cell_type": "code",
   "execution_count": 9,
   "id": "specific-surge",
   "metadata": {},
   "outputs": [
    {
     "name": "stdout",
     "output_type": "stream",
     "text": [
      "Query executed successfully\n"
     ]
    }
   ],
   "source": [
    "insert_courses = \"\"\"\n",
    "INSERT INTO\n",
    "    COURSES (\"Code\", \"Name\", \"Units\", \"Location\", \"Level\") \n",
    "VALUES\n",
    "    ('DATA110', 'Machine Learning', 3, 'Online', 'Undergraduate'),\n",
    "    ('DATA115', 'Relational Databases', 3, 'Online', 'Undergraduate'),\n",
    "    ('HUM50', 'Humanities', 3, 'Online', 'Undergraduate'),\n",
    "    ('MSBA328', 'Visualization and Communications', 3, 'Mixed', 'Graduate'),\n",
    "    ('MSBA305', 'Business Intelligence', 3, 'In Person', 'Graduate');\n",
    "\"\"\"\n",
    "\n",
    "execute_query(connection, insert_courses) "
   ]
  },
  {
   "cell_type": "code",
   "execution_count": 10,
   "id": "according-split",
   "metadata": {},
   "outputs": [
    {
     "name": "stdout",
     "output_type": "stream",
     "text": [
      "Query executed successfully\n"
     ]
    }
   ],
   "source": [
    "insert_degrees = \"\"\"\n",
    "INSERT INTO\n",
    "    DEGREE (\"Name\", \"Level\", \"Units\")\n",
    "VALUES\n",
    "    ('BS DA', 'Undergraduate', 123),\n",
    "    ('MS BA', 'Graduate', 36);\n",
    "\"\"\"\n",
    "\n",
    "execute_query(connection, insert_degrees) "
   ]
  },
  {
   "cell_type": "markdown",
   "id": "alpha-kelly",
   "metadata": {},
   "source": [
    "## Select Data\n",
    "The following queries select the number of active students at GGU, as well as number of courses at GGU, and number of Degrees."
   ]
  },
  {
   "cell_type": "code",
   "execution_count": 11,
   "id": "digital-verse",
   "metadata": {},
   "outputs": [],
   "source": [
    "def execute_read_query(connection, query):\n",
    "    cursor = connection.cursor()\n",
    "    result = None\n",
    "    try:\n",
    "        cursor.execute(query)\n",
    "        result = cursor.fetchall()\n",
    "        return result\n",
    "    except Error as e:\n",
    "        print(f\"The error '{e}' occurred\")"
   ]
  },
  {
   "cell_type": "code",
   "execution_count": 12,
   "id": "attempted-workshop",
   "metadata": {},
   "outputs": [
    {
     "name": "stdout",
     "output_type": "stream",
     "text": [
      "The number of Students is 4\n"
     ]
    }
   ],
   "source": [
    "select_students = \"SELECT COUNT(ID) FROM STUDENTS WHERE Active = 1\"\n",
    "students = execute_read_query(connection, select_students)\n",
    "\n",
    "print(f\"The number of Students is {students[0][0]}\")\n"
   ]
  },
  {
   "cell_type": "code",
   "execution_count": 13,
   "id": "different-hybrid",
   "metadata": {},
   "outputs": [
    {
     "name": "stdout",
     "output_type": "stream",
     "text": [
      "The number of Courses is 5\n"
     ]
    }
   ],
   "source": [
    "select_courses = \"SELECT COUNT(ID) FROM COURSES\"\n",
    "courses = execute_read_query(connection, select_courses)\n",
    "\n",
    "print(f\"The number of Courses is {courses[0][0]}\")\n"
   ]
  },
  {
   "cell_type": "code",
   "execution_count": 14,
   "id": "hydraulic-money",
   "metadata": {},
   "outputs": [
    {
     "name": "stdout",
     "output_type": "stream",
     "text": [
      "The number of Degrees is 2\n"
     ]
    }
   ],
   "source": [
    "select_degrees = \"SELECT COUNT(ID) FROM DEGREE\"\n",
    "degrees = execute_read_query(connection, select_degrees)\n",
    "\n",
    "print(f\"The number of Degrees is {degrees[0][0]}\")"
   ]
  }
 ],
 "metadata": {
  "kernelspec": {
   "display_name": "Python 3",
   "language": "python",
   "name": "python3"
  },
  "language_info": {
   "codemirror_mode": {
    "name": "ipython",
    "version": 3
   },
   "file_extension": ".py",
   "mimetype": "text/x-python",
   "name": "python",
   "nbconvert_exporter": "python",
   "pygments_lexer": "ipython3",
   "version": "3.8.5"
  }
 },
 "nbformat": 4,
 "nbformat_minor": 5
}
